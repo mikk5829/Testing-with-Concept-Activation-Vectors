{
 "cells": [
  {
   "cell_type": "code",
   "source": [
    "import seaborn as sns\n",
    "sns.set_theme(style=\"white\")\n",
    "sns.set_palette(\"Paired\") #Paired"
   ],
   "metadata": {
    "tags": [],
    "cell_id": "def5444702ed4e6987ce5f6aea197262",
    "source_hash": "6950db0d",
    "execution_start": 1667229985751,
    "execution_millis": 1441,
    "deepnote_to_be_reexecuted": false,
    "deepnote_cell_type": "code",
    "pycharm": {
     "name": "#%%\n",
     "is_executing": true
    }
   },
   "outputs": [],
   "execution_count": null
  },
  {
   "cell_type": "markdown",
   "source": [
    "# Running TCAV"
   ],
   "metadata": {
    "id": "v88fM4ciYYde",
    "cell_id": "d193f141c5f346019581a44bc52ead66",
    "deepnote_cell_type": "markdown",
    "pycharm": {
     "name": "#%% md\n"
    }
   }
  },
  {
   "cell_type": "markdown",
   "source": [
    "This notebook walks you through an example application of the TCAV library step-by-step to understand which human interpretable concepts (e.g. stripes, dots, zigzags) are important to the image classifier GoogleNet's (a.k.a. Inception v1) prediction of Zebras."
   ],
   "metadata": {
    "id": "5-RlU8wNYYdj",
    "cell_id": "03941b8d4df94820b633ff2a4dcbf56f",
    "deepnote_cell_type": "markdown",
    "pycharm": {
     "name": "#%% md\n"
    }
   }
  },
  {
   "cell_type": "markdown",
   "source": [
    "## Install required packages\n",
    "\n",
    "To run through this notebook in the interim, you are encouraged to utilize a `virtualenv` or `conda` environment for installing and working with the required packages to avoid any dependency and compatability issues with different versions of packages."
   ],
   "metadata": {
    "id": "J1zIj8-aYYdj",
    "cell_id": "c2cde4edd4c7458289d689b082aa8e5b",
    "deepnote_cell_type": "markdown",
    "pycharm": {
     "name": "#%% md\n"
    }
   }
  },
  {
   "cell_type": "code",
   "source": [
    "%pip install tensorflow\n",
    "%pip install tcav\n",
    "# %pip install MarkupSafe"
   ],
   "metadata": {
    "id": "sIHww5CuYYdk",
    "tags": [],
    "cell_id": "39c527f131d946d59cfd0450cd680767",
    "source_hash": "d7346c41",
    "execution_start": 1667229987204,
    "execution_millis": 6140,
    "deepnote_to_be_reexecuted": false,
    "deepnote_cell_type": "code",
    "pycharm": {
     "name": "#%%\n"
    }
   },
   "outputs": [
    {
     "name": "stdout",
     "text": "Requirement already satisfied: tensorflow in /shared-libs/python3.9/py/lib/python3.9/site-packages (2.10.0)\nRequirement already satisfied: packaging in /shared-libs/python3.9/py-core/lib/python3.9/site-packages (from tensorflow) (21.3)\nRequirement already satisfied: setuptools in /root/venv/lib/python3.9/site-packages (from tensorflow) (58.1.0)\nRequirement already satisfied: gast<=0.4.0,>=0.2.1 in /shared-libs/python3.9/py/lib/python3.9/site-packages (from tensorflow) (0.4.0)\nRequirement already satisfied: libclang>=13.0.0 in /shared-libs/python3.9/py/lib/python3.9/site-packages (from tensorflow) (14.0.6)\nRequirement already satisfied: grpcio<2.0,>=1.24.3 in /shared-libs/python3.9/py/lib/python3.9/site-packages (from tensorflow) (1.50.0)\nRequirement already satisfied: opt-einsum>=2.3.2 in /shared-libs/python3.9/py/lib/python3.9/site-packages (from tensorflow) (3.3.0)\nRequirement already satisfied: wrapt>=1.11.0 in /shared-libs/python3.9/py/lib/python3.9/site-packages (from tensorflow) (1.14.1)\nRequirement already satisfied: six>=1.12.0 in /shared-libs/python3.9/py-core/lib/python3.9/site-packages (from tensorflow) (1.16.0)\nRequirement already satisfied: tensorflow-estimator<2.11,>=2.10.0 in /shared-libs/python3.9/py/lib/python3.9/site-packages (from tensorflow) (2.10.0)\nRequirement already satisfied: protobuf<3.20,>=3.9.2 in /shared-libs/python3.9/py/lib/python3.9/site-packages (from tensorflow) (3.19.6)\nRequirement already satisfied: google-pasta>=0.1.1 in /shared-libs/python3.9/py/lib/python3.9/site-packages (from tensorflow) (0.2.0)\nRequirement already satisfied: tensorflow-io-gcs-filesystem>=0.23.1 in /shared-libs/python3.9/py/lib/python3.9/site-packages (from tensorflow) (0.27.0)\nRequirement already satisfied: tensorboard<2.11,>=2.10 in /shared-libs/python3.9/py/lib/python3.9/site-packages (from tensorflow) (2.10.1)\nRequirement already satisfied: numpy>=1.20 in /shared-libs/python3.9/py/lib/python3.9/site-packages (from tensorflow) (1.23.4)\nRequirement already satisfied: flatbuffers>=2.0 in /shared-libs/python3.9/py/lib/python3.9/site-packages (from tensorflow) (22.9.24)\nRequirement already satisfied: typing-extensions>=3.6.6 in /shared-libs/python3.9/py/lib/python3.9/site-packages (from tensorflow) (4.4.0)\nRequirement already satisfied: keras-preprocessing>=1.1.1 in /shared-libs/python3.9/py/lib/python3.9/site-packages (from tensorflow) (1.1.2)\nRequirement already satisfied: h5py>=2.9.0 in /shared-libs/python3.9/py/lib/python3.9/site-packages (from tensorflow) (3.7.0)\nRequirement already satisfied: astunparse>=1.6.0 in /shared-libs/python3.9/py/lib/python3.9/site-packages (from tensorflow) (1.6.3)\nRequirement already satisfied: absl-py>=1.0.0 in /shared-libs/python3.9/py/lib/python3.9/site-packages (from tensorflow) (1.3.0)\nRequirement already satisfied: keras<2.11,>=2.10.0 in /shared-libs/python3.9/py/lib/python3.9/site-packages (from tensorflow) (2.10.0)\nRequirement already satisfied: termcolor>=1.1.0 in /shared-libs/python3.9/py/lib/python3.9/site-packages (from tensorflow) (2.0.1)\nRequirement already satisfied: wheel<1.0,>=0.23.0 in /usr/local/lib/python3.9/site-packages (from astunparse>=1.6.0->tensorflow) (0.37.1)\nRequirement already satisfied: tensorboard-plugin-wit>=1.6.0 in /shared-libs/python3.9/py/lib/python3.9/site-packages (from tensorboard<2.11,>=2.10->tensorflow) (1.8.1)\nRequirement already satisfied: google-auth-oauthlib<0.5,>=0.4.1 in /shared-libs/python3.9/py/lib/python3.9/site-packages (from tensorboard<2.11,>=2.10->tensorflow) (0.4.6)\nRequirement already satisfied: requests<3,>=2.21.0 in /shared-libs/python3.9/py/lib/python3.9/site-packages (from tensorboard<2.11,>=2.10->tensorflow) (2.28.1)\nRequirement already satisfied: google-auth<3,>=1.6.3 in /shared-libs/python3.9/py/lib/python3.9/site-packages (from tensorboard<2.11,>=2.10->tensorflow) (2.13.0)\nRequirement already satisfied: werkzeug>=1.0.1 in /shared-libs/python3.9/py/lib/python3.9/site-packages (from tensorboard<2.11,>=2.10->tensorflow) (2.2.2)\nRequirement already satisfied: markdown>=2.6.8 in /shared-libs/python3.9/py/lib/python3.9/site-packages (from tensorboard<2.11,>=2.10->tensorflow) (3.4.1)\nRequirement already satisfied: tensorboard-data-server<0.7.0,>=0.6.0 in /shared-libs/python3.9/py/lib/python3.9/site-packages (from tensorboard<2.11,>=2.10->tensorflow) (0.6.1)\nRequirement already satisfied: pyparsing!=3.0.5,>=2.0.2 in /shared-libs/python3.9/py-core/lib/python3.9/site-packages (from packaging->tensorflow) (3.0.9)\nRequirement already satisfied: cachetools<6.0,>=2.0.0 in /shared-libs/python3.9/py/lib/python3.9/site-packages (from google-auth<3,>=1.6.3->tensorboard<2.11,>=2.10->tensorflow) (5.2.0)\nRequirement already satisfied: rsa<5,>=3.1.4 in /shared-libs/python3.9/py/lib/python3.9/site-packages (from google-auth<3,>=1.6.3->tensorboard<2.11,>=2.10->tensorflow) (4.9)\nRequirement already satisfied: pyasn1-modules>=0.2.1 in /shared-libs/python3.9/py/lib/python3.9/site-packages (from google-auth<3,>=1.6.3->tensorboard<2.11,>=2.10->tensorflow) (0.2.8)\nRequirement already satisfied: requests-oauthlib>=0.7.0 in /shared-libs/python3.9/py/lib/python3.9/site-packages (from google-auth-oauthlib<0.5,>=0.4.1->tensorboard<2.11,>=2.10->tensorflow) (1.3.1)\nRequirement already satisfied: importlib-metadata>=4.4 in /shared-libs/python3.9/py/lib/python3.9/site-packages (from markdown>=2.6.8->tensorboard<2.11,>=2.10->tensorflow) (5.0.0)\nRequirement already satisfied: idna<4,>=2.5 in /shared-libs/python3.9/py-core/lib/python3.9/site-packages (from requests<3,>=2.21.0->tensorboard<2.11,>=2.10->tensorflow) (3.4)\nRequirement already satisfied: urllib3<1.27,>=1.21.1 in /shared-libs/python3.9/py/lib/python3.9/site-packages (from requests<3,>=2.21.0->tensorboard<2.11,>=2.10->tensorflow) (1.26.12)\nRequirement already satisfied: charset-normalizer<3,>=2 in /shared-libs/python3.9/py-core/lib/python3.9/site-packages (from requests<3,>=2.21.0->tensorboard<2.11,>=2.10->tensorflow) (2.1.1)\nRequirement already satisfied: certifi>=2017.4.17 in /shared-libs/python3.9/py/lib/python3.9/site-packages (from requests<3,>=2.21.0->tensorboard<2.11,>=2.10->tensorflow) (2022.9.24)\nCollecting MarkupSafe>=2.1.1\n  Downloading MarkupSafe-2.1.1-cp39-cp39-manylinux_2_17_x86_64.manylinux2014_x86_64.whl (25 kB)\nRequirement already satisfied: zipp>=0.5 in /shared-libs/python3.9/py/lib/python3.9/site-packages (from importlib-metadata>=4.4->markdown>=2.6.8->tensorboard<2.11,>=2.10->tensorflow) (3.9.0)\nRequirement already satisfied: pyasn1<0.5.0,>=0.4.6 in /shared-libs/python3.9/py/lib/python3.9/site-packages (from pyasn1-modules>=0.2.1->google-auth<3,>=1.6.3->tensorboard<2.11,>=2.10->tensorflow) (0.4.8)\nRequirement already satisfied: oauthlib>=3.0.0 in /shared-libs/python3.9/py/lib/python3.9/site-packages (from requests-oauthlib>=0.7.0->google-auth-oauthlib<0.5,>=0.4.1->tensorboard<2.11,>=2.10->tensorflow) (3.2.2)\nInstalling collected packages: MarkupSafe\n  Attempting uninstall: MarkupSafe\n    Found existing installation: MarkupSafe 2.0.1\n    Uninstalling MarkupSafe-2.0.1:\n\u001B[31mERROR: Could not install packages due to an OSError: [Errno 30] Read-only file system: 'INSTALLER'\n\u001B[0m\u001B[31m\n\u001B[0m\u001B[33mWARNING: You are using pip version 22.0.4; however, version 22.3 is available.\nYou should consider upgrading via the '/usr/local/bin/python -m pip install --upgrade pip' command.\u001B[0m\u001B[33m\n\u001B[0mNote: you may need to restart the kernel to use updated packages.\nCollecting tcav\n  Downloading tcav-0.2.2-py3-none-any.whl (54 kB)\n\u001B[2K     \u001B[90m━━━━━━━━━━━━━━━━━━━━━━━━━━━━━━━━━━━━━━━━\u001B[0m \u001B[32m54.4/54.4 KB\u001B[0m \u001B[31m11.3 MB/s\u001B[0m eta \u001B[36m0:00:00\u001B[0m\n\u001B[?25hRequirement already satisfied: scikit-learn>=0.20.3 in /shared-libs/python3.9/py/lib/python3.9/site-packages (from tcav) (1.1.2)\nRequirement already satisfied: Pillow>=6.0.0 in /shared-libs/python3.9/py/lib/python3.9/site-packages (from tcav) (9.2.0)\nRequirement already satisfied: matplotlib>=2.2.4 in /shared-libs/python3.9/py/lib/python3.9/site-packages (from tcav) (3.6.0)\nRequirement already satisfied: scipy>=1.2.1 in /shared-libs/python3.9/py/lib/python3.9/site-packages (from tcav) (1.9.3)\nRequirement already satisfied: protobuf>=3.10.0 in /shared-libs/python3.9/py/lib/python3.9/site-packages (from tcav) (3.19.6)\nRequirement already satisfied: kiwisolver>=1.0.1 in /shared-libs/python3.9/py/lib/python3.9/site-packages (from matplotlib>=2.2.4->tcav) (1.4.4)\nRequirement already satisfied: packaging>=20.0 in /shared-libs/python3.9/py-core/lib/python3.9/site-packages (from matplotlib>=2.2.4->tcav) (21.3)\nRequirement already satisfied: fonttools>=4.22.0 in /shared-libs/python3.9/py/lib/python3.9/site-packages (from matplotlib>=2.2.4->tcav) (4.37.4)\nRequirement already satisfied: python-dateutil>=2.7 in /shared-libs/python3.9/py-core/lib/python3.9/site-packages (from matplotlib>=2.2.4->tcav) (2.8.2)\nRequirement already satisfied: numpy>=1.19 in /shared-libs/python3.9/py/lib/python3.9/site-packages (from matplotlib>=2.2.4->tcav) (1.23.4)\nRequirement already satisfied: cycler>=0.10 in /shared-libs/python3.9/py/lib/python3.9/site-packages (from matplotlib>=2.2.4->tcav) (0.11.0)\nRequirement already satisfied: pyparsing>=2.2.1 in /shared-libs/python3.9/py-core/lib/python3.9/site-packages (from matplotlib>=2.2.4->tcav) (3.0.9)\nRequirement already satisfied: contourpy>=1.0.1 in /shared-libs/python3.9/py/lib/python3.9/site-packages (from matplotlib>=2.2.4->tcav) (1.0.5)\nRequirement already satisfied: threadpoolctl>=2.0.0 in /shared-libs/python3.9/py/lib/python3.9/site-packages (from scikit-learn>=0.20.3->tcav) (3.1.0)\nRequirement already satisfied: joblib>=1.0.0 in /shared-libs/python3.9/py/lib/python3.9/site-packages (from scikit-learn>=0.20.3->tcav) (1.2.0)\nRequirement already satisfied: six>=1.5 in /shared-libs/python3.9/py-core/lib/python3.9/site-packages (from python-dateutil>=2.7->matplotlib>=2.2.4->tcav) (1.16.0)\nInstalling collected packages: tcav\nSuccessfully installed tcav-0.2.2\n\u001B[33mWARNING: Running pip as the 'root' user can result in broken permissions and conflicting behaviour with the system package manager. It is recommended to use a virtual environment instead: https://pip.pypa.io/warnings/venv\u001B[0m\u001B[33m\n\u001B[0m\u001B[33mWARNING: You are using pip version 22.0.4; however, version 22.3 is available.\nYou should consider upgrading via the '/usr/local/bin/python -m pip install --upgrade pip' command.\u001B[0m\u001B[33m\n\u001B[0mNote: you may need to restart the kernel to use updated packages.\n",
     "output_type": "stream"
    }
   ],
   "execution_count": 2
  },
  {
   "cell_type": "markdown",
   "source": [
    "## Download example models and images\n",
    "\n",
    "Open a terminal and run the following commands:\n",
    "\n",
    "```\n",
    "cd tcav/tcav_examples/image_models/imagenet\n",
    "\n",
    "python download_and_make_datasets.py --source_dir=YOUR_PATH --number_of_images_per_folder=50 --number_of_random_folders=3\n",
    "```\n",
    "\n",
    "This script will download the following content into separate folders into a directory you specify with the `--source_dir=` argument:\n",
    "\n",
    "**Images**\n",
    "*  ImageNet images for the target Zebra class\n",
    "*  [Broden dataset](http://netdissect.csail.mit.edu/) images for three concepts (e.g. striped, dotted, zigzagged)\n",
    "*  Random ImageNet class images used by TCAV for hypothesis testing of important concepts\n",
    "\n",
    "**Models**\n",
    "*  [Inception 5h model](https://github.com/Hvass-Labs/TensorFlow-Tutorials/blob/master/inception5h.py)\n",
    "*  [Mobilenet V2 model](https://github.com/tensorflow/models/blob/master/research/slim/nets/mobilenet_v1.md)"
   ],
   "metadata": {
    "id": "-NT91qkMYYdk",
    "cell_id": "eb3002eff96b49149061e5e9260e9213",
    "deepnote_cell_type": "markdown",
    "pycharm": {
     "name": "#%% md\n"
    }
   }
  },
  {
   "cell_type": "markdown",
   "source": [
    "## Import extensions and libraries"
   ],
   "metadata": {
    "id": "rlrLUu4zYYdl",
    "cell_id": "89f0858217b54472bda56d72a224c487",
    "deepnote_cell_type": "markdown",
    "pycharm": {
     "name": "#%% md\n"
    }
   }
  },
  {
   "cell_type": "code",
   "source": [
    "%load_ext autoreload\n",
    "%autoreload 2"
   ],
   "metadata": {
    "id": "sS1ZjSZjYYdl",
    "cell_id": "b967f216b64a4751952bfdf8e3647679",
    "source_hash": "2f19d1f9",
    "execution_start": 1667229993351,
    "execution_millis": 118,
    "deepnote_to_be_reexecuted": false,
    "deepnote_cell_type": "code",
    "pycharm": {
     "name": "#%%\n"
    }
   },
   "outputs": [],
   "execution_count": 3
  },
  {
   "cell_type": "code",
   "source": [
    "import tcav.activation_generator as act_gen\n",
    "import tcav.cav as cav\n",
    "import tcav.model  as model\n",
    "import tcav.tcav as tcav\n",
    "import tcav.utils as utils\n",
    "import tcav.utils_plot as utils_plot # utils_plot requires matplotlib\n",
    "import os \n",
    "import tensorflow as tf"
   ],
   "metadata": {
    "id": "U4yP9kDlYYdl",
    "cell_id": "86be2f6bb2b24d94a1e0d8b0481cea84",
    "source_hash": "c712623f",
    "execution_start": 1667229993474,
    "execution_millis": 2996,
    "deepnote_to_be_reexecuted": false,
    "deepnote_cell_type": "code",
    "pycharm": {
     "name": "#%%\n"
    }
   },
   "outputs": [
    {
     "name": "stderr",
     "text": "2022-10-31 15:26:33.496061: I tensorflow/core/platform/cpu_feature_guard.cc:193] This TensorFlow binary is optimized with oneAPI Deep Neural Network Library (oneDNN) to use the following CPU instructions in performance-critical operations:  AVX2 FMA\nTo enable them in other operations, rebuild TensorFlow with the appropriate compiler flags.\n2022-10-31 15:26:33.644264: W tensorflow/stream_executor/platform/default/dso_loader.cc:64] Could not load dynamic library 'libcudart.so.11.0'; dlerror: libcudart.so.11.0: cannot open shared object file: No such file or directory\n2022-10-31 15:26:33.644290: I tensorflow/stream_executor/cuda/cudart_stub.cc:29] Ignore above cudart dlerror if you do not have a GPU set up on your machine.\n2022-10-31 15:26:33.672079: E tensorflow/stream_executor/cuda/cuda_blas.cc:2981] Unable to register cuBLAS factory: Attempting to register factory for plugin cuBLAS when one has already been registered\n2022-10-31 15:26:34.740330: W tensorflow/stream_executor/platform/default/dso_loader.cc:64] Could not load dynamic library 'libnvinfer.so.7'; dlerror: libnvinfer.so.7: cannot open shared object file: No such file or directory\n2022-10-31 15:26:34.740434: W tensorflow/stream_executor/platform/default/dso_loader.cc:64] Could not load dynamic library 'libnvinfer_plugin.so.7'; dlerror: libnvinfer_plugin.so.7: cannot open shared object file: No such file or directory\n2022-10-31 15:26:34.740446: W tensorflow/compiler/tf2tensorrt/utils/py_utils.cc:38] TF-TRT Warning: Cannot dlopen some TensorRT libraries. If you would like to use Nvidia GPU with TensorRT, please make sure the missing libraries mentioned above are installed properly.\n",
     "output_type": "stream"
    }
   ],
   "execution_count": 4
  },
  {
   "cell_type": "markdown",
   "source": [
    "## TCAV step-by-step\n",
    "\n",
    "You will walk through the following steps below:\n",
    "\n",
    "1. **Store example images in each folder** (you have this if you ran the above)\n",
    " * images for each concept\n",
    " * images for the class/labels of interest\n",
    " * random images that will be negative examples when learning CAVs (images that probably don't belong to any concepts)\n",
    "2. **Write a model wrapper** (below uses example from tcav/model.py)\n",
    " * an instance of  ModelWrapper abstract class (in model.py). This tells TCAV class (tcav.py) how to communicate with your model (e.g., getting internal tensors)\n",
    "3. **Retrieve model activations** (below uses example from tcav/activation_generator.py)\n",
    " * an instance of ActivationGeneratorInterface that tells TCAV class how to load example data and how to get activations from the model\n",
    "4. Run TCAV and visualize scores for important concepts."
   ],
   "metadata": {
    "id": "yitpnXmEYYdm",
    "cell_id": "0fdb98331bf54e1aa0d532552a12555d",
    "deepnote_cell_type": "markdown",
    "pycharm": {
     "name": "#%% md\n"
    }
   }
  },
  {
   "cell_type": "markdown",
   "source": [
    "## Step 1: Store concept and target class images to local folders\n",
    "\n",
    "... and tell TCAV where they are.\n",
    "\n",
    "**source_dir**: where images of concepts, target class and random images (negative samples when learning CAVs) live. Each should be a sub-folder within this directory.\n",
    "\n",
    "Note that random image directories can be in any name. In this example, we are using `random500_0`, `random500_1`,.. for an arbitrary reason. \n",
    "\n",
    "You need roughly 50-200 images per concept and target class (10-20 pictures also tend to work, but 200 is pretty safe).\n",
    "\n",
    "\n",
    "**cav_dir**: directory to store CAVs (`None` if you don't want to store)\n",
    "\n",
    "**target, concept**: names of the target class (that you want to investigate) and concepts (strings) - these are folder names in source_dir\n",
    "\n",
    "**bottlenecks**: list of bottleneck names (intermediate layers in your model) that you want to use for TCAV. These names are defined in the model wrapper below.\n",
    "\n"
   ],
   "metadata": {
    "id": "zjjLK3pBYYdm",
    "cell_id": "0b1ed2bb348c491dbf84fdc0d3493a4f",
    "deepnote_cell_type": "markdown",
    "pycharm": {
     "name": "#%% md\n"
    }
   }
  },
  {
   "cell_type": "code",
   "source": [
    "print ('REMEMBER TO UPDATE YOUR_PATH (where images, models are)!')\n",
    "\n",
    "# This is the name of your model wrapper (InceptionV3 and GoogleNet are provided in model.py)\n",
    "model_to_run = 'GoogleNet'  \n",
    "user = 'beenkim'\n",
    "# the name of the parent directory that results are stored (only if you want to cache)\n",
    "project_name = 'tcav_class_test'\n",
    "working_dir = \"/tmp/\" + user + '/' + project_name\n",
    "# where activations are stored (only if your act_gen_wrapper does so)\n",
    "activation_dir =  working_dir+ '/activations/'\n",
    "# where CAVs are stored. \n",
    "# You can say None if you don't wish to store any.\n",
    "cav_dir = working_dir + '/cavs/'\n",
    "# where the images live.\n",
    "\n",
    "# TODO: replace 'YOUR_PATH' with path to downloaded models and images. \n",
    "source_dir = '/tcav/tcav_examples/image_models/imagenet/images'\n",
    "# bottlenecks = ['mixed3a', 'mixed3b', 'mixed4a', 'mixed4b', 'mixed4c', 'mixed4d', 'mixed4e', 'mixed5a', 'mixed5b']  # @param\n",
    "bottlenecks = ['mixed3a', 'mixed3b']  # @param\n",
    "\n",
    "utils.make_dir_if_not_exists(activation_dir)\n",
    "utils.make_dir_if_not_exists(working_dir)\n",
    "utils.make_dir_if_not_exists(cav_dir)\n",
    "\n",
    "# this is a regularizer penalty parameter for linear classifier to get CAVs. \n",
    "alphas = [0.1]   \n",
    "\n",
    "target = 'plant'\n",
    "concepts = [\"zigzagged\", 'fibrous', 'frilly', 'veined']\n"
   ],
   "metadata": {
    "id": "EHabMnMNYYdm",
    "tags": [],
    "cell_id": "6fe85e77d0034798b8657e941be353ff",
    "source_hash": "4c997b4a",
    "execution_start": 1667229996475,
    "execution_millis": 43,
    "deepnote_to_be_reexecuted": false,
    "deepnote_cell_type": "code",
    "pycharm": {
     "name": "#%%\n"
    }
   },
   "outputs": [
    {
     "name": "stdout",
     "text": "REMEMBER TO UPDATE YOUR_PATH (where images, models are)!\n",
     "output_type": "stream"
    }
   ],
   "execution_count": 5
  },
  {
   "cell_type": "markdown",
   "source": [
    "## Step 2: Write your model wrapper\n",
    "\n",
    "The next step is to tell TCAV how to communicate with your model. See `model.GoogleNetWrapper_public ` for details.\n",
    "\n",
    "You can define a subclass of ModelWrapper abstract class to do this. Let me walk you thru what each function does (tho they are pretty self-explanatory).  This wrapper includes a lot of the functions that you already have, for example, `get_prediction`.\n",
    "\n",
    "### 2.1: Tensors from the graph: bottleneck tensors and ends\n",
    "First, store your bottleneck tensors in `self.bottlenecks_tensors` as a dictionary. You only need bottlenecks that you are interested in running TCAV with. Similarly, fill in `self.ends` dictionary with `input`, `logit` and `prediction` tensors.\n",
    "\n",
    "### 2.2: Define loss\n",
    "Get your loss tensor, and assigned it to `self.loss`. This is what TCAV uses to take directional derivatives. \n",
    "\n",
    "While doing so, you would also want to set \n",
    "```python\n",
    "self.y_input \n",
    "```\n",
    "this simply is a tensorflow place holder for the target index in the logit layer (e.g., 0 index for a dog, 1 for a cat).\n",
    "For multi-class classification, typically something like this works:\n",
    "\n",
    "```python\n",
    "self.y_input = tf.placeholder(tf.int64, shape=[None])\n",
    "```\n",
    "\n",
    "For example, for a multiclass classifier, something like below would work. \n",
    "\n",
    "```python\n",
    "    # Construct gradient ops.\n",
    "    with g.as_default():\n",
    "      self.y_input = tf.placeholder(tf.int64, shape=[None])\n",
    "\n",
    "      self.pred = tf.expand_dims(self.ends['prediction'][0], 0)\n",
    "\n",
    "      self.loss = tf.reduce_mean(\n",
    "          tf.nn.softmax_cross_entropy_with_logits(\n",
    "              labels=tf.one_hot(self.y_input, len(self.labels)),\n",
    "              logits=self.pred))\n",
    "    self._make_gradient_tensors()\n",
    "```\n",
    "\n",
    "### 2.3: Call _make_gradient_tensors in __init__() of your wrapper\n",
    "```python\n",
    "_make_gradient_tensors()  \n",
    "```\n",
    "does what you expect - given the loss and bottleneck tensors defined above, it adds gradient tensors.\n",
    "\n",
    "### 2.4: Fill in labels, image shapes and a model name.\n",
    "Get the mapping from labels (strings) to indice in the logit layer (int) in a dictionary format.\n",
    "\n",
    "```python\n",
    "def id_to_label(self, idx)\n",
    "def label_to_id(self, label)\n",
    "```\n",
    "\n",
    "Set your input image shape at  `self.image_shape`\n",
    "\n",
    "\n",
    "Set your model name to `self.model_name`\n",
    "\n",
    "You are done with writing the model wrapper! See the two example model wrapers, InceptionV3 and Googlenet in `tcav/model.py`."
   ],
   "metadata": {
    "id": "u_DfQqsAYYdn",
    "cell_id": "85e2e54029d346fabbe51d01ed3fb804",
    "deepnote_cell_type": "markdown",
    "pycharm": {
     "name": "#%% md\n"
    }
   }
  },
  {
   "cell_type": "code",
   "source": [
    "# Create TensorFlow session.\n",
    "sess = utils.create_session()\n",
    "\n",
    "# GRAPH_PATH is where the trained model is stored.\n",
    "GRAPH_PATH = source_dir + \"/inception5h/tensorflow_inception_graph.pb\"\n",
    "# LABEL_PATH is where the labels are stored. Each line contains one class, and they are ordered with respect to their index in \n",
    "# the logit layer. (yes, id_to_label function in the model wrapper reads from this file.)\n",
    "# For example, imagenet_comp_graph_label_strings.txt looks like:\n",
    "# dummy                                                                                      \n",
    "# kit fox\n",
    "# English setter\n",
    "# Siberian husky ...\n",
    "\n",
    "LABEL_PATH = source_dir + \"/inception5h/imagenet_comp_graph_label_strings.txt\"\n",
    "\n",
    "mymodel = model.GoogleNetWrapper_public(sess,\n",
    "                                        GRAPH_PATH,\n",
    "                                        LABEL_PATH)"
   ],
   "metadata": {
    "id": "hH-YQiEIYYdn",
    "tags": [],
    "cell_id": "65c73238153c4da68a35c3145f575508",
    "source_hash": "f484acc7",
    "execution_start": 1667229996522,
    "execution_millis": 2261,
    "deepnote_to_be_reexecuted": false,
    "deepnote_cell_type": "code",
    "pycharm": {
     "name": "#%%\n"
    }
   },
   "outputs": [
    {
     "name": "stderr",
     "text": "2022-10-31 15:26:36.561992: I tensorflow/core/platform/cpu_feature_guard.cc:193] This TensorFlow binary is optimized with oneAPI Deep Neural Network Library (oneDNN) to use the following CPU instructions in performance-critical operations:  AVX2 FMA\nTo enable them in other operations, rebuild TensorFlow with the appropriate compiler flags.\n2022-10-31 15:26:36.563579: W tensorflow/stream_executor/platform/default/dso_loader.cc:64] Could not load dynamic library 'libcuda.so.1'; dlerror: libcuda.so.1: cannot open shared object file: No such file or directory\n2022-10-31 15:26:36.563632: W tensorflow/stream_executor/cuda/cuda_driver.cc:263] failed call to cuInit: UNKNOWN ERROR (303)\n2022-10-31 15:26:36.563657: I tensorflow/stream_executor/cuda/cuda_diagnostics.cc:156] kernel driver does not appear to be running on this host (p-89f3653d-e83b-416f-89e8-2a0eb2f10fa3): /proc/driver/nvidia/version does not exist\n",
     "output_type": "stream"
    }
   ],
   "execution_count": 6
  },
  {
   "cell_type": "markdown",
   "source": [
    "## Step 3: Implement a class that returns activations (maybe with caching!)\n",
    "\n",
    "Lastly, you will implement a class of the ActivationGenerationInterface which TCAV uses to load example data for a given concept or target, call into your model wrapper and return activations. I pulled out this logic outside of mymodel because this step often takes the longest. By making it modular, you can cache your activations and/or parallelize your computations, as I have done in `ActivationGeneratorBase.process_and_load_activations` in `activation_generator.py`.\n",
    "\n",
    "\n",
    "The `process_and_load_activations` method of the activation generator must return a dictionary of activations that has concept or target name as  a first key, and the bottleneck name as a second key. So something like:\n",
    "\n",
    "```python\n",
    "{concept1: {bottleneck1: [[0.2, 0.1, ....]]},\n",
    "concept2: {bottleneck1: [[0.1, 0.02, ....]]},\n",
    "target1: {bottleneck1: [[0.02, 0.99, ....]]}\n",
    "```\n"
   ],
   "metadata": {
    "id": "yY5kXbVAYYdo",
    "cell_id": "26f88876501a4387b93043f5bd7f5dea",
    "deepnote_cell_type": "markdown",
    "pycharm": {
     "name": "#%% md\n"
    }
   }
  },
  {
   "cell_type": "code",
   "source": [
    "act_generator = act_gen.ImageActivationGenerator(mymodel, source_dir, activation_dir, max_examples=100)"
   ],
   "metadata": {
    "id": "ZmSyFxQbYYdo",
    "cell_id": "01ce8755162c4dde80ac1572fbd1c618",
    "source_hash": "3d25a9d1",
    "execution_start": 1667229998822,
    "execution_millis": 7,
    "deepnote_to_be_reexecuted": false,
    "deepnote_cell_type": "code",
    "pycharm": {
     "name": "#%%\n"
    }
   },
   "outputs": [],
   "execution_count": 7
  },
  {
   "cell_type": "markdown",
   "source": [
    "## Step 4: Run TCAV and visualize concept importance\n",
    "\n",
    "You are now ready to run TCAV! Let's do it.\n",
    "\n",
    "**num_random_exp**: number of experiments to confirm meaningful concept direction. TCAV will search for this many folders named `random500_0`, `random500_1`, etc. You can alternatively set the `random_concepts` keyword to be a list of folders of random concepts. Run at least 10-20 for meaningful tests. \n",
    "\n",
    "**random_counterpart**: as well as the above, you can optionally supply a single folder with random images as the \"positive set\" for statistical testing. Reduces computation time at the cost of less reliable random TCAV scores.\n"
   ],
   "metadata": {
    "id": "uABCWhp8YYdo",
    "cell_id": "aa9a5f8b5d42414092b042822df58bc5",
    "deepnote_cell_type": "markdown",
    "pycharm": {
     "name": "#%% md\n"
    }
   }
  },
  {
   "cell_type": "code",
   "source": [
    "import absl\n",
    "absl.logging.set_verbosity(0)\n",
    "num_random_exp=3\n",
    "## only running num_random_exp = 10 to save some time. The paper number are reported for 500 random runs. \n",
    "mytcav = tcav.TCAV(sess,\n",
    "                   target,\n",
    "                   concepts,\n",
    "                   bottlenecks,\n",
    "                   act_generator,\n",
    "                   alphas,\n",
    "                   cav_dir=cav_dir,\n",
    "                   num_random_exp=num_random_exp)#10)\n",
    "print ('This may take a while... Go get coffee!')\n",
    "results = mytcav.run(run_parallel=False)\n",
    "print ('done!')"
   ],
   "metadata": {
    "id": "F2FVOGSvYYdp",
    "tags": [],
    "cell_id": "734dd4e31d914ce6981d91df7d9ef3a7",
    "scrolled": false,
    "source_hash": "cc3f039e",
    "execution_start": 1667229998829,
    "execution_millis": 656,
    "deepnote_to_be_reexecuted": false,
    "deepnote_cell_type": "code",
    "pycharm": {
     "name": "#%%\n"
    }
   },
   "outputs": [
    {
     "name": "stdout",
     "text": "INFO:tensorflow:mixed3a ['zigzagged', 'random500_0'] zebra 0.1\nINFO:tensorflow:mixed3a ['zigzagged', 'random500_1'] zebra 0.1\nINFO:tensorflow:mixed3a ['zigzagged', 'random500_2'] zebra 0.1\nINFO:tensorflow:mixed3a ['striped', 'random500_0'] zebra 0.1\nINFO:tensorflow:mixed3a ['striped', 'random500_1'] zebra 0.1\nINFO:tensorflow:mixed3a ['striped', 'random500_2'] zebra 0.1\nINFO:tensorflow:mixed3a ['dotted', 'random500_0'] zebra 0.1\nINFO:tensorflow:mixed3a ['dotted', 'random500_1'] zebra 0.1\nINFO:tensorflow:mixed3a ['dotted', 'random500_2'] zebra 0.1\nINFO:tensorflow:mixed3a ['random500_0', 'random500_1'] zebra 0.1\nINFO:tensorflow:mixed3a ['random500_0', 'random500_2'] zebra 0.1\nINFO:tensorflow:mixed3a ['random500_1', 'random500_0'] zebra 0.1\nINFO:tensorflow:mixed3a ['random500_1', 'random500_2'] zebra 0.1\nINFO:tensorflow:mixed3a ['random500_2', 'random500_0'] zebra 0.1\nINFO:tensorflow:mixed3a ['random500_2', 'random500_1'] zebra 0.1\nINFO:tensorflow:mixed3b ['zigzagged', 'random500_0'] zebra 0.1\nINFO:tensorflow:mixed3b ['zigzagged', 'random500_1'] zebra 0.1\nINFO:tensorflow:mixed3b ['zigzagged', 'random500_2'] zebra 0.1\nINFO:tensorflow:mixed3b ['striped', 'random500_0'] zebra 0.1\nINFO:tensorflow:mixed3b ['striped', 'random500_1'] zebra 0.1\nINFO:tensorflow:mixed3b ['striped', 'random500_2'] zebra 0.1\nINFO:tensorflow:mixed3b ['dotted', 'random500_0'] zebra 0.1\nINFO:tensorflow:mixed3b ['dotted', 'random500_1'] zebra 0.1\nINFO:tensorflow:mixed3b ['dotted', 'random500_2'] zebra 0.1\nINFO:tensorflow:mixed3b ['random500_0', 'random500_1'] zebra 0.1\nINFO:tensorflow:mixed3b ['random500_0', 'random500_2'] zebra 0.1\nINFO:tensorflow:mixed3b ['random500_1', 'random500_0'] zebra 0.1\nINFO:tensorflow:mixed3b ['random500_1', 'random500_2'] zebra 0.1\nINFO:tensorflow:mixed3b ['random500_2', 'random500_0'] zebra 0.1\nINFO:tensorflow:mixed3b ['random500_2', 'random500_1'] zebra 0.1\nINFO:tensorflow:mixed4a ['zigzagged', 'random500_0'] zebra 0.1\nINFO:tensorflow:mixed4a ['zigzagged', 'random500_1'] zebra 0.1\nINFO:tensorflow:mixed4a ['zigzagged', 'random500_2'] zebra 0.1\nINFO:tensorflow:mixed4a ['striped', 'random500_0'] zebra 0.1\nINFO:tensorflow:mixed4a ['striped', 'random500_1'] zebra 0.1\nINFO:tensorflow:mixed4a ['striped', 'random500_2'] zebra 0.1\nINFO:tensorflow:mixed4a ['dotted', 'random500_0'] zebra 0.1\nINFO:tensorflow:mixed4a ['dotted', 'random500_1'] zebra 0.1\nINFO:tensorflow:mixed4a ['dotted', 'random500_2'] zebra 0.1\nINFO:tensorflow:mixed4a ['random500_0', 'random500_1'] zebra 0.1\nINFO:tensorflow:mixed4a ['random500_0', 'random500_2'] zebra 0.1\nINFO:tensorflow:mixed4a ['random500_1', 'random500_0'] zebra 0.1\nINFO:tensorflow:mixed4a ['random500_1', 'random500_2'] zebra 0.1\nINFO:tensorflow:mixed4a ['random500_2', 'random500_0'] zebra 0.1\nINFO:tensorflow:mixed4a ['random500_2', 'random500_1'] zebra 0.1\nINFO:tensorflow:mixed4b ['zigzagged', 'random500_0'] zebra 0.1\nINFO:tensorflow:mixed4b ['zigzagged', 'random500_1'] zebra 0.1\nINFO:tensorflow:mixed4b ['zigzagged', 'random500_2'] zebra 0.1\nINFO:tensorflow:mixed4b ['striped', 'random500_0'] zebra 0.1\nINFO:tensorflow:mixed4b ['striped', 'random500_1'] zebra 0.1\nINFO:tensorflow:mixed4b ['striped', 'random500_2'] zebra 0.1\nINFO:tensorflow:mixed4b ['dotted', 'random500_0'] zebra 0.1\nINFO:tensorflow:mixed4b ['dotted', 'random500_1'] zebra 0.1\nINFO:tensorflow:mixed4b ['dotted', 'random500_2'] zebra 0.1\nINFO:tensorflow:mixed4b ['random500_0', 'random500_1'] zebra 0.1\nINFO:tensorflow:mixed4b ['random500_0', 'random500_2'] zebra 0.1\nINFO:tensorflow:mixed4b ['random500_1', 'random500_0'] zebra 0.1\nINFO:tensorflow:mixed4b ['random500_1', 'random500_2'] zebra 0.1\nINFO:tensorflow:mixed4b ['random500_2', 'random500_0'] zebra 0.1\nINFO:tensorflow:mixed4b ['random500_2', 'random500_1'] zebra 0.1\nINFO:tensorflow:mixed4c ['zigzagged', 'random500_0'] zebra 0.1\nINFO:tensorflow:mixed4c ['zigzagged', 'random500_1'] zebra 0.1\nINFO:tensorflow:mixed4c ['zigzagged', 'random500_2'] zebra 0.1\nINFO:tensorflow:mixed4c ['striped', 'random500_0'] zebra 0.1\nINFO:tensorflow:mixed4c ['striped', 'random500_1'] zebra 0.1\nINFO:tensorflow:mixed4c ['striped', 'random500_2'] zebra 0.1\nINFO:tensorflow:mixed4c ['dotted', 'random500_0'] zebra 0.1\nINFO:tensorflow:mixed4c ['dotted', 'random500_1'] zebra 0.1\nINFO:tensorflow:mixed4c ['dotted', 'random500_2'] zebra 0.1\nINFO:tensorflow:mixed4c ['random500_0', 'random500_1'] zebra 0.1\nINFO:tensorflow:mixed4c ['random500_0', 'random500_2'] zebra 0.1\nINFO:tensorflow:mixed4c ['random500_1', 'random500_0'] zebra 0.1\nINFO:tensorflow:mixed4c ['random500_1', 'random500_2'] zebra 0.1\nINFO:tensorflow:mixed4c ['random500_2', 'random500_0'] zebra 0.1\nINFO:tensorflow:mixed4c ['random500_2', 'random500_1'] zebra 0.1\nINFO:tensorflow:mixed4d ['zigzagged', 'random500_0'] zebra 0.1\nINFO:tensorflow:mixed4d ['zigzagged', 'random500_1'] zebra 0.1\nINFO:tensorflow:mixed4d ['zigzagged', 'random500_2'] zebra 0.1\nINFO:tensorflow:mixed4d ['striped', 'random500_0'] zebra 0.1\nINFO:tensorflow:mixed4d ['striped', 'random500_1'] zebra 0.1\nINFO:tensorflow:mixed4d ['striped', 'random500_2'] zebra 0.1\nINFO:tensorflow:mixed4d ['dotted', 'random500_0'] zebra 0.1\nINFO:tensorflow:mixed4d ['dotted', 'random500_1'] zebra 0.1\nINFO:tensorflow:mixed4d ['dotted', 'random500_2'] zebra 0.1\nINFO:tensorflow:mixed4d ['random500_0', 'random500_1'] zebra 0.1\nINFO:tensorflow:mixed4d ['random500_0', 'random500_2'] zebra 0.1\nINFO:tensorflow:mixed4d ['random500_1', 'random500_0'] zebra 0.1\nINFO:tensorflow:mixed4d ['random500_1', 'random500_2'] zebra 0.1\nINFO:tensorflow:mixed4d ['random500_2', 'random500_0'] zebra 0.1\nINFO:tensorflow:mixed4d ['random500_2', 'random500_1'] zebra 0.1\nINFO:tensorflow:mixed4e ['zigzagged', 'random500_0'] zebra 0.1\nINFO:tensorflow:mixed4e ['zigzagged', 'random500_1'] zebra 0.1\nINFO:tensorflow:mixed4e ['zigzagged', 'random500_2'] zebra 0.1\nINFO:tensorflow:mixed4e ['striped', 'random500_0'] zebra 0.1\nINFO:tensorflow:mixed4e ['striped', 'random500_1'] zebra 0.1\nINFO:tensorflow:mixed4e ['striped', 'random500_2'] zebra 0.1\nINFO:tensorflow:mixed4e ['dotted', 'random500_0'] zebra 0.1\nINFO:tensorflow:mixed4e ['dotted', 'random500_1'] zebra 0.1\nINFO:tensorflow:mixed4e ['dotted', 'random500_2'] zebra 0.1\nINFO:tensorflow:mixed4e ['random500_0', 'random500_1'] zebra 0.1\nINFO:tensorflow:mixed4e ['random500_0', 'random500_2'] zebra 0.1\nINFO:tensorflow:mixed4e ['random500_1', 'random500_0'] zebra 0.1\nINFO:tensorflow:mixed4e ['random500_1', 'random500_2'] zebra 0.1\nINFO:tensorflow:mixed4e ['random500_2', 'random500_0'] zebra 0.1\nINFO:tensorflow:mixed4e ['random500_2', 'random500_1'] zebra 0.1\nINFO:tensorflow:mixed5a ['zigzagged', 'random500_0'] zebra 0.1\nINFO:tensorflow:mixed5a ['zigzagged', 'random500_1'] zebra 0.1\nINFO:tensorflow:mixed5a ['zigzagged', 'random500_2'] zebra 0.1\nINFO:tensorflow:mixed5a ['striped', 'random500_0'] zebra 0.1\nINFO:tensorflow:mixed5a ['striped', 'random500_1'] zebra 0.1\nINFO:tensorflow:mixed5a ['striped', 'random500_2'] zebra 0.1\nINFO:tensorflow:mixed5a ['dotted', 'random500_0'] zebra 0.1\nINFO:tensorflow:mixed5a ['dotted', 'random500_1'] zebra 0.1\nINFO:tensorflow:mixed5a ['dotted', 'random500_2'] zebra 0.1\nINFO:tensorflow:mixed5a ['random500_0', 'random500_1'] zebra 0.1\nINFO:tensorflow:mixed5a ['random500_0', 'random500_2'] zebra 0.1\nINFO:tensorflow:mixed5a ['random500_1', 'random500_0'] zebra 0.1\nINFO:tensorflow:mixed5a ['random500_1', 'random500_2'] zebra 0.1\nINFO:tensorflow:mixed5a ['random500_2', 'random500_0'] zebra 0.1\nINFO:tensorflow:mixed5a ['random500_2', 'random500_1'] zebra 0.1\nINFO:tensorflow:mixed5b ['zigzagged', 'random500_0'] zebra 0.1\nINFO:tensorflow:mixed5b ['zigzagged', 'random500_1'] zebra 0.1\nINFO:tensorflow:mixed5b ['zigzagged', 'random500_2'] zebra 0.1\nINFO:tensorflow:mixed5b ['striped', 'random500_0'] zebra 0.1\nINFO:tensorflow:mixed5b ['striped', 'random500_1'] zebra 0.1\nINFO:tensorflow:mixed5b ['striped', 'random500_2'] zebra 0.1\nINFO:tensorflow:mixed5b ['dotted', 'random500_0'] zebra 0.1\nINFO:tensorflow:mixed5b ['dotted', 'random500_1'] zebra 0.1\nINFO:tensorflow:mixed5b ['dotted', 'random500_2'] zebra 0.1\nINFO:tensorflow:mixed5b ['random500_0', 'random500_1'] zebra 0.1\nINFO:tensorflow:mixed5b ['random500_0', 'random500_2'] zebra 0.1\nINFO:tensorflow:mixed5b ['random500_1', 'random500_0'] zebra 0.1\nINFO:tensorflow:mixed5b ['random500_1', 'random500_2'] zebra 0.1\nINFO:tensorflow:mixed5b ['random500_2', 'random500_0'] zebra 0.1\nINFO:tensorflow:mixed5b ['random500_2', 'random500_1'] zebra 0.1\nINFO:tensorflow:TCAV will 135 params\nThis may take a while... Go get coffee!\nINFO:tensorflow:running 135 params\nINFO:tensorflow:Running param 0 of 135\nINFO:tensorflow:running zebra ['zigzagged', 'random500_0']\n2022-10-31 15:26:39.502693: I tensorflow/compiler/mlir/mlir_graph_optimization_pass.cc:354] MLIR V1 optimization pass is not enabled\nINFO:tensorflow:/tmp/beenkim/tcav_class_test/activations/acts_zigzagged_mixed3a does not exist, Making one...\nINFO:tensorflow:/tmp/beenkim/tcav_class_test/activations/acts_random500_0_mixed3a does not exist, Making one...\nINFO:tensorflow:/tmp/beenkim/tcav_class_test/activations/acts_zebra_mixed3a does not exist, Making one...\nINFO:tensorflow:Training CAV ['zigzagged', 'random500_0'] - mixed3a alpha 0.1\nINFO:tensorflow:training with alpha=0.1\nINFO:tensorflow:acc per class {'zigzagged': 0.7333333333333333, 'random500_0': 1.0, 'overall': 0.8620689655172413}\nINFO:tensorflow:CAV accuracies: {'zigzagged': 0.7333333333333333, 'random500_0': 1.0, 'overall': 0.8620689655172413}\n",
     "output_type": "stream"
    },
    {
     "output_type": "error",
     "ename": "KernelInterrupted",
     "evalue": "Execution interrupted by the Jupyter kernel.",
     "traceback": [
      "\u001B[0;31m---------------------------------------------------------------------------\u001B[0m",
      "\u001B[0;31mKernelInterrupted\u001B[0m: Execution interrupted by the Jupyter kernel."
     ]
    }
   ],
   "execution_count": 1
  },
  {
   "cell_type": "code",
   "source": [
    "utils_plot.plot_results(results, num_random_exp=num_random_exp)"
   ],
   "metadata": {
    "id": "hjKVKa80YYdp",
    "tags": [],
    "cell_id": "9fdaaf7107e443f7acd4d2fe9110771b",
    "outputId": "ff3cbebe-4edd-4342-cede-24dc10ce9d99",
    "scrolled": false,
    "source_hash": "7d5ae635",
    "execution_start": 1667229627758,
    "execution_millis": 1176,
    "deepnote_to_be_reexecuted": true,
    "deepnote_cell_type": "code",
    "pycharm": {
     "name": "#%%\n"
    }
   },
   "outputs": [
    {
     "name": "stdout",
     "text": "Class = zebra\n  Concept = dotted\n    Bottleneck = mixed3a. TCAV Score = 0.25 (+- 0.08), random was 0.54 (+- 0.13). p-val = 0.015 (significant)\n    Bottleneck = mixed3b. TCAV Score = 0.25 (+- 0.05), random was 0.55 (+- 0.09). p-val = 0.001 (significant)\n    Bottleneck = mixed4a. TCAV Score = 0.30 (+- 0.18), random was 0.43 (+- 0.13). p-val = 0.338 (not significant)\n    Bottleneck = mixed4b. TCAV Score = 0.27 (+- 0.09), random was 0.48 (+- 0.18). p-val = 0.145 (not significant)\n    Bottleneck = mixed4c. TCAV Score = 0.36 (+- 0.28), random was 0.60 (+- 0.19). p-val = 0.232 (not significant)\n    Bottleneck = mixed4d. TCAV Score = 0.62 (+- 0.34), random was 0.41 (+- 0.25). p-val = 0.384 (not significant)\n    Bottleneck = mixed4e. TCAV Score = 0.59 (+- 0.28), random was 0.49 (+- 0.33). p-val = 0.695 (not significant)\n    Bottleneck = mixed5a. TCAV Score = 0.59 (+- 0.17), random was 0.56 (+- 0.42). p-val = 0.920 (not significant)\n  Concept = striped\n    Bottleneck = mixed3a. TCAV Score = 0.44 (+- 0.02), random was 0.54 (+- 0.13). p-val = 0.259 (not significant)\n    Bottleneck = mixed3b. TCAV Score = 0.59 (+- 0.04), random was 0.55 (+- 0.09). p-val = 0.581 (not significant)\n    Bottleneck = mixed4a. TCAV Score = 0.52 (+- 0.18), random was 0.43 (+- 0.13). p-val = 0.462 (not significant)\n    Bottleneck = mixed4b. TCAV Score = 0.73 (+- 0.11), random was 0.48 (+- 0.18). p-val = 0.089 (not significant)\n    Bottleneck = mixed4c. TCAV Score = 0.91 (+- 0.06), random was 0.60 (+- 0.19). p-val = 0.042 (significant)\n    Bottleneck = mixed4d. TCAV Score = 0.97 (+- 0.00), random was 0.41 (+- 0.25). p-val = 0.011 (significant)\n    Bottleneck = mixed4e. TCAV Score = 0.93 (+- 0.08), random was 0.49 (+- 0.33). p-val = 0.081 (not significant)\n    Bottleneck = mixed5a. TCAV Score = 1.00 (+- 0.00), random was 0.56 (+- 0.42). p-val = 0.150 (not significant)\n  Concept = zigzagged\n    Bottleneck = mixed3a. TCAV Score = 0.30 (+- 0.06), random was 0.54 (+- 0.13). p-val = 0.028 (significant)\n    Bottleneck = mixed3b. TCAV Score = 0.30 (+- 0.11), random was 0.55 (+- 0.09). p-val = 0.014 (significant)\n    Bottleneck = mixed4a. TCAV Score = 0.37 (+- 0.12), random was 0.43 (+- 0.13). p-val = 0.613 (not significant)\n    Bottleneck = mixed4b. TCAV Score = 0.67 (+- 0.17), random was 0.48 (+- 0.18). p-val = 0.212 (not significant)\n    Bottleneck = mixed4c. TCAV Score = 0.75 (+- 0.05), random was 0.60 (+- 0.19). p-val = 0.277 (not significant)\n    Bottleneck = mixed4d. TCAV Score = 0.89 (+- 0.03), random was 0.41 (+- 0.25). p-val = 0.022 (significant)\n    Bottleneck = mixed4e. TCAV Score = 0.94 (+- 0.02), random was 0.49 (+- 0.33). p-val = 0.073 (not significant)\n    Bottleneck = mixed5a. TCAV Score = 0.98 (+- 0.01), random was 0.56 (+- 0.42). p-val = 0.167 (not significant)\n{'mixed3a': {'bn_vals': [0.25490196078431376, 0.01, 0.30392156862745096], 'bn_stds': [0.07719615562756678, 0, 0.055459355387180186], 'significant': [True, False, True]}, 'mixed3b': {'bn_vals': [0.2450980392156863, 0.01, 0.30392156862745096], 'bn_stds': [0.04999038738816456, 0, 0.11348859708617869], 'significant': [True, False, True]}, 'mixed4a': {'bn_vals': [0.01, 0.01, 0.01], 'bn_stds': [0, 0, 0], 'significant': [False, False, False]}, 'mixed4b': {'bn_vals': [0.01, 0.01, 0.01], 'bn_stds': [0, 0, 0], 'significant': [False, False, False]}, 'mixed4c': {'bn_vals': [0.01, 0.9117647058823529, 0.01], 'bn_stds': [0, 0.06353667351380256, 0], 'significant': [False, True, False]}, 'mixed4d': {'bn_vals': [0.01, 0.9705882352941176, 0.892156862745098], 'bn_stds': [0, 0.0, 0.027729677693590107], 'significant': [False, True, True]}, 'mixed4e': {'bn_vals': [0.01, 0.01, 0.01], 'bn_stds': [0, 0, 0], 'significant': [False, False, False]}, 'mixed5a': {'bn_vals': [0.01, 0.01, 0.01], 'bn_stds': [0, 0, 0], 'significant': [False, False, False]}}\n",
     "output_type": "stream"
    },
    {
     "data": {
      "text/plain": "<Figure size 640x480 with 1 Axes>",
      "image/png": "[encoded data removed]"
     },
     "metadata": {
      "image/png": {
       "width": 623,
       "height": 463
      }
     },
     "output_type": "display_data"
    }
   ],
   "execution_count": 28
  },
  {
   "cell_type": "code",
   "source": [],
   "metadata": {
    "tags": [],
    "cell_id": "271ef6579b1c4bf89ba727cd0b4b577c",
    "source_hash": "b623e53d",
    "deepnote_to_be_reexecuted": true,
    "deepnote_cell_type": "code",
    "pycharm": {
     "name": "#%%\n"
    }
   },
   "outputs": [],
   "execution_count": null
  },
  {
   "cell_type": "markdown",
   "source": [
    "<a style='text-decoration:none;line-height:16px;display:flex;color:#5B5B62;padding:10px;justify-content:end;' href='https://deepnote.com?utm_source=created-in-deepnote-cell&projectId=89f3653d-e83b-416f-89e8-2a0eb2f10fa3' target=\"_blank\">\n",
    "<img alt='Created in deepnote.com' style='display:inline;max-height:16px;margin:0px;margin-right:7.5px;' src='data:image/svg+xml;base64,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' > </img>\n",
    "Created in <span style='font-weight:600;margin-left:4px;'>Deepnote</span></a>"
   ],
   "metadata": {
    "tags": [],
    "created_in_deepnote_cell": true,
    "deepnote_cell_type": "markdown",
    "pycharm": {
     "name": "#%% md\n"
    }
   }
  }
 ],
 "nbformat": 4,
 "nbformat_minor": 0,
 "metadata": {
  "colab": {
   "name": "Run TCAV.ipynb",
   "provenance": []
  },
  "deepnote": {},
  "kernelspec": {
   "name": "python_defaultSpec_1594677056398",
   "language": "python",
   "display_name": "Python 3.7.7 64-bit ('tf1.15': conda)"
  },
  "language_info": {
   "name": "python",
   "version": "3.7.7-final",
   "mimetype": "text/x-python",
   "file_extension": ".py",
   "pygments_lexer": "ipython3",
   "codemirror_mode": {
    "name": "ipython",
    "version": 3
   },
   "nbconvert_exporter": "python"
  },
  "deepnote_full_width": true,
  "deepnote_notebook_id": "1c6b6e85997e49d7a6faf19f4fcc9656",
  "deepnote_execution_queue": []
 }
}